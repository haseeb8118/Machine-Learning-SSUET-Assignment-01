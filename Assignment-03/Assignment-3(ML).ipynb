{
 "cells": [
  {
   "cell_type": "code",
   "execution_count": 1,
   "metadata": {
    "colab": {
     "base_uri": "https://localhost:8080/"
    },
    "id": "MifaIRmdDdwG",
    "outputId": "145687c8-4723-4d3f-f5bc-4ef59cb87e14"
   },
   "outputs": [
    {
     "name": "stdout",
     "output_type": "stream",
     "text": [
      "Sat Jul 13 10:55:20 2024       \n",
      "+---------------------------------------------------------------------------------------+\n",
      "| NVIDIA-SMI 538.18                 Driver Version: 538.18       CUDA Version: 12.2     |\n",
      "|-----------------------------------------+----------------------+----------------------+\n",
      "| GPU  Name                     TCC/WDDM  | Bus-Id        Disp.A | Volatile Uncorr. ECC |\n",
      "| Fan  Temp   Perf          Pwr:Usage/Cap |         Memory-Usage | GPU-Util  Compute M. |\n",
      "|                                         |                      |               MIG M. |\n",
      "|=========================================+======================+======================|\n",
      "|   0  Quadro M1000M                WDDM  | 00000000:01:00.0 Off |                  N/A |\n",
      "| N/A    0C    P0              N/A / 200W |      0MiB /  4096MiB |      0%      Default |\n",
      "|                                         |                      |                  N/A |\n",
      "+-----------------------------------------+----------------------+----------------------+\n",
      "                                                                                         \n",
      "+---------------------------------------------------------------------------------------+\n",
      "| Processes:                                                                            |\n",
      "|  GPU   GI   CI        PID   Type   Process name                            GPU Memory |\n",
      "|        ID   ID                                                             Usage      |\n",
      "|=======================================================================================|\n",
      "|  No running processes found                                                           |\n",
      "+---------------------------------------------------------------------------------------+\n"
     ]
    }
   ],
   "source": [
    "!nvidia-smi"
   ]
  },
  {
   "cell_type": "code",
   "execution_count": 2,
   "metadata": {
    "colab": {
     "base_uri": "https://localhost:8080/"
    },
    "id": "IGSi_D06Pe3R",
    "outputId": "17d0df53-8293-48c3-edea-21e4bbb1f429"
   },
   "outputs": [
    {
     "name": "stdout",
     "output_type": "stream",
     "text": [
      "GPU is not available.\n"
     ]
    }
   ],
   "source": [
    "import torch\n",
    "\n",
    "# Check PyTorch GPU availability\n",
    "if torch.cuda.is_available():\n",
    "    print(f\"GPU Name: {torch.cuda.get_device_name(0)}\")\n",
    "    print(f\"GPU Is Available: {torch.cuda.is_available()}\")\n",
    "else:\n",
    "    print(\"GPU is not available.\")"
   ]
  },
  {
   "cell_type": "code",
   "execution_count": 4,
   "metadata": {
    "id": "BmHJ2uHmQQuc"
   },
   "outputs": [],
   "source": [
    "import os\n",
    "import numpy as np\n",
    "import pandas as pd\n",
    "import matplotlib.pyplot as plt\n",
    "import seaborn as sns\n",
    "import tensorflow as tf\n",
    "from sklearn.model_selection import train_test_split\n",
    "from sklearn.metrics import accuracy_score, precision_score, recall_score, f1_score, roc_auc_score, roc_curve, auc\n",
    "from tensorflow.keras.preprocessing.image import ImageDataGenerator\n",
    "from tensorflow.keras.applications import ResNet50, DenseNet121, InceptionV3\n",
    "from tensorflow.keras.layers import Dense, GlobalAveragePooling2D\n",
    "from tensorflow.keras.models import Model\n",
    "from tensorflow.keras.optimizers import Adam\n",
    "from tensorflow.keras.preprocessing.image import img_to_array, load_img"
   ]
  },
  {
   "cell_type": "code",
   "execution_count": 5,
   "metadata": {
    "id": "te4fiuwEQcDI"
   },
   "outputs": [],
   "source": [
    "def load_images_from_folder(folder):\n",
    "    images = []\n",
    "    labels = []\n",
    "    for filename in os.listdir(folder):\n",
    "        if filename.endswith(\".jpg\") or filename.endswith(\".png\"):\n",
    "            img = load_img(os.path.join(folder, filename), target_size=(256, 256))\n",
    "            img = img_to_array(img)\n",
    "            img = np.expand_dims(img, axis=0)\n",
    "            img = img / 255.0\n",
    "            images.append(img)\n",
    "            labels.append(1 if 'yes' in folder else 0)\n",
    "    return np.vstack(images), np.array(labels)"
   ]
  },
  {
   "cell_type": "code",
   "execution_count": 20,
   "metadata": {
    "id": "LWogOaWbQ6LY"
   },
   "outputs": [],
   "source": [
    "yes_folder = \"..\\\\MRI Images\\\\brain_tumor_dataset\\\\yes\"\n",
    "no_folder = \"..\\\\MRI Images\\\\brain_tumor_dataset\\\\no\""
   ]
  },
  {
   "cell_type": "code",
   "execution_count": 21,
   "metadata": {
    "id": "FwarPce1Qk1c"
   },
   "outputs": [],
   "source": [
    "yes_images, yes_labels = load_images_from_folder(yes_folder)\n",
    "no_images, no_labels = load_images_from_folder(no_folder)"
   ]
  },
  {
   "cell_type": "code",
   "execution_count": 22,
   "metadata": {
    "id": "LCMu8qxmRbMP"
   },
   "outputs": [],
   "source": [
    "MRI_images = np.concatenate((yes_images, no_images), axis=0)\n",
    "y_mri_labels = np.concatenate((yes_labels, no_labels), axis=0)"
   ]
  },
  {
   "cell_type": "code",
   "execution_count": 23,
   "metadata": {
    "id": "giLohVbuRfL_"
   },
   "outputs": [],
   "source": [
    "X_train_mri, X_val_mri, y_train_mri, y_val_mri = train_test_split(MRI_images, y_mri_labels, test_size=0.2, random_state=42)"
   ]
  },
  {
   "cell_type": "code",
   "execution_count": 24,
   "metadata": {
    "id": "tijwwld2Ri-N"
   },
   "outputs": [],
   "source": [
    "def build_model(base_model):\n",
    "    x = base_model.output\n",
    "    x = GlobalAveragePooling2D()(x)\n",
    "    x = Dense(1024, activation='relu')(x)\n",
    "    predictions = Dense(1, activation='sigmoid')(x)\n",
    "    model = Model(inputs=base_model.input, outputs=predictions)\n",
    "    return model"
   ]
  },
  {
   "cell_type": "code",
   "execution_count": 25,
   "metadata": {
    "id": "cjl7olRrRmiB"
   },
   "outputs": [],
   "source": [
    "def train_model(model, X_train, y_train, X_val, y_val, learning_rate, batch_size, epochs):\n",
    "    model.compile(optimizer=Adam(learning_rate=learning_rate), loss='binary_crossentropy', metrics=['accuracy'])\n",
    "    history = model.fit(X_train, y_train, batch_size=batch_size, epochs=epochs, validation_data=(X_val, y_val))\n",
    "    return history"
   ]
  },
  {
   "cell_type": "code",
   "execution_count": 26,
   "metadata": {
    "id": "ZkXSaR1sRpnM"
   },
   "outputs": [],
   "source": [
    "def evaluate_model(model, X_val, y_val):\n",
    "    y_pred = (model.predict(X_val) > 0.5).astype(\"int32\")\n",
    "    accuracy = accuracy_score(y_val, y_pred)\n",
    "    precision = precision_score(y_val, y_pred)\n",
    "    recall = recall_score(y_val, y_pred)\n",
    "    f1 = f1_score(y_val, y_pred)\n",
    "    auc_roc = roc_auc_score(y_val, y_pred)\n",
    "    return accuracy, precision, recall, f1, auc_roc"
   ]
  },
  {
   "cell_type": "code",
   "execution_count": 27,
   "metadata": {
    "id": "4jfWDRbjRs35"
   },
   "outputs": [],
   "source": [
    "base_models = {\n",
    "    'ResNet50': ResNet50(weights='imagenet', include_top=False, input_shape=(256, 256, 3)),\n",
    "    'DenseNet121': DenseNet121(weights='imagenet', include_top=False, input_shape=(256, 256, 3)),\n",
    "    'InceptionV3': InceptionV3(weights='imagenet', include_top=False, input_shape=(256, 256, 3))\n",
    "}"
   ]
  },
  {
   "cell_type": "code",
   "execution_count": 28,
   "metadata": {
    "id": "20LYaRKjRzGP"
   },
   "outputs": [],
   "source": [
    "learning_rates = [0.001, 0.01, 0.1]\n",
    "batch_sizes = [8, 16, 32]\n",
    "epochs = 3\n",
    "results = {}"
   ]
  },
  {
   "cell_type": "code",
   "execution_count": 29,
   "metadata": {
    "colab": {
     "base_uri": "https://localhost:8080/",
     "height": 217
    },
    "id": "nBEpIgVeR4Fp",
    "outputId": "6a87d12e-a41c-4665-d9f9-94e172d2548d"
   },
   "outputs": [
    {
     "name": "stdout",
     "output_type": "stream",
     "text": [
      "Training ResNet50 with LR=0.001, Batch Size=8\n",
      "Epoch 1/3\n",
      "\u001b[1m18/18\u001b[0m \u001b[32m━━━━━━━━━━━━━━━━━━━━\u001b[0m\u001b[37m\u001b[0m \u001b[1m91s\u001b[0m 2s/step - accuracy: 0.6105 - loss: 2.1363 - val_accuracy: 0.4286 - val_loss: 624.4586\n",
      "Epoch 2/3\n",
      "\u001b[1m18/18\u001b[0m \u001b[32m━━━━━━━━━━━━━━━━━━━━\u001b[0m\u001b[37m\u001b[0m \u001b[1m36s\u001b[0m 2s/step - accuracy: 0.6049 - loss: 0.6974 - val_accuracy: 0.5714 - val_loss: 2181.8074\n",
      "Epoch 3/3\n",
      "\u001b[1m18/18\u001b[0m \u001b[32m━━━━━━━━━━━━━━━━━━━━\u001b[0m\u001b[37m\u001b[0m \u001b[1m37s\u001b[0m 2s/step - accuracy: 0.6530 - loss: 0.6053 - val_accuracy: 0.5714 - val_loss: 411.3811\n",
      "\u001b[1m2/2\u001b[0m \u001b[32m━━━━━━━━━━━━━━━━━━━━\u001b[0m\u001b[37m\u001b[0m \u001b[1m8s\u001b[0m 3s/step\n",
      "Training ResNet50 with LR=0.001, Batch Size=16\n",
      "Epoch 1/3\n",
      "\u001b[1m9/9\u001b[0m \u001b[32m━━━━━━━━━━━━━━━━━━━━\u001b[0m\u001b[37m\u001b[0m \u001b[1m111s\u001b[0m 5s/step - accuracy: 0.5812 - loss: 1.2626 - val_accuracy: 0.5714 - val_loss: 114617.2109\n",
      "Epoch 2/3\n",
      "\u001b[1m9/9\u001b[0m \u001b[32m━━━━━━━━━━━━━━━━━━━━\u001b[0m\u001b[37m\u001b[0m \u001b[1m48s\u001b[0m 5s/step - accuracy: 0.7385 - loss: 0.6627 - val_accuracy: 0.5714 - val_loss: 895799.6875\n",
      "Epoch 3/3\n",
      "\u001b[1m9/9\u001b[0m \u001b[32m━━━━━━━━━━━━━━━━━━━━\u001b[0m\u001b[37m\u001b[0m \u001b[1m42s\u001b[0m 5s/step - accuracy: 0.8033 - loss: 0.4640 - val_accuracy: 0.5714 - val_loss: 2272.6616\n",
      "\u001b[1m2/2\u001b[0m \u001b[32m━━━━━━━━━━━━━━━━━━━━\u001b[0m\u001b[37m\u001b[0m \u001b[1m8s\u001b[0m 3s/step\n",
      "Training ResNet50 with LR=0.001, Batch Size=32\n",
      "Epoch 1/3\n",
      "\u001b[1m5/5\u001b[0m \u001b[32m━━━━━━━━━━━━━━━━━━━━\u001b[0m\u001b[37m\u001b[0m \u001b[1m102s\u001b[0m 8s/step - accuracy: 0.6619 - loss: 0.7855 - val_accuracy: 0.5714 - val_loss: 6476264.0000\n",
      "Epoch 2/3\n",
      "\u001b[1m5/5\u001b[0m \u001b[32m━━━━━━━━━━━━━━━━━━━━\u001b[0m\u001b[37m\u001b[0m \u001b[1m49s\u001b[0m 10s/step - accuracy: 0.7749 - loss: 0.4398 - val_accuracy: 0.5714 - val_loss: 14055854.0000\n",
      "Epoch 3/3\n",
      "\u001b[1m5/5\u001b[0m \u001b[32m━━━━━━━━━━━━━━━━━━━━\u001b[0m\u001b[37m\u001b[0m \u001b[1m39s\u001b[0m 8s/step - accuracy: 0.8708 - loss: 0.3636 - val_accuracy: 0.5714 - val_loss: 7348893.5000\n",
      "WARNING:tensorflow:5 out of the last 5 calls to <function TensorFlowTrainer.make_predict_function.<locals>.one_step_on_data_distributed at 0x000002747A7DCC20> triggered tf.function retracing. Tracing is expensive and the excessive number of tracings could be due to (1) creating @tf.function repeatedly in a loop, (2) passing tensors with different shapes, (3) passing Python objects instead of tensors. For (1), please define your @tf.function outside of the loop. For (2), @tf.function has reduce_retracing=True option that can avoid unnecessary retracing. For (3), please refer to https://www.tensorflow.org/guide/function#controlling_retracing and https://www.tensorflow.org/api_docs/python/tf/function for  more details.\n",
      "\u001b[1m1/2\u001b[0m \u001b[32m━━━━━━━━━━\u001b[0m\u001b[37m━━━━━━━━━━\u001b[0m \u001b[1m4s\u001b[0m 4s/stepWARNING:tensorflow:6 out of the last 6 calls to <function TensorFlowTrainer.make_predict_function.<locals>.one_step_on_data_distributed at 0x000002747A7DCC20> triggered tf.function retracing. Tracing is expensive and the excessive number of tracings could be due to (1) creating @tf.function repeatedly in a loop, (2) passing tensors with different shapes, (3) passing Python objects instead of tensors. For (1), please define your @tf.function outside of the loop. For (2), @tf.function has reduce_retracing=True option that can avoid unnecessary retracing. For (3), please refer to https://www.tensorflow.org/guide/function#controlling_retracing and https://www.tensorflow.org/api_docs/python/tf/function for  more details.\n",
      "\u001b[1m2/2\u001b[0m \u001b[32m━━━━━━━━━━━━━━━━━━━━\u001b[0m\u001b[37m\u001b[0m \u001b[1m7s\u001b[0m 3s/step\n",
      "Training ResNet50 with LR=0.01, Batch Size=8\n",
      "Epoch 1/3\n",
      "\u001b[1m18/18\u001b[0m \u001b[32m━━━━━━━━━━━━━━━━━━━━\u001b[0m\u001b[37m\u001b[0m \u001b[1m107s\u001b[0m 3s/step - accuracy: 0.5322 - loss: 3.4902 - val_accuracy: 0.4286 - val_loss: 3876889269532360704.0000\n",
      "Epoch 2/3\n",
      "\u001b[1m18/18\u001b[0m \u001b[32m━━━━━━━━━━━━━━━━━━━━\u001b[0m\u001b[37m\u001b[0m \u001b[1m56s\u001b[0m 3s/step - accuracy: 0.4538 - loss: 5.0829 - val_accuracy: 0.4286 - val_loss: 13615256043520.0000\n",
      "Epoch 3/3\n",
      "\u001b[1m18/18\u001b[0m \u001b[32m━━━━━━━━━━━━━━━━━━━━\u001b[0m\u001b[37m\u001b[0m \u001b[1m43s\u001b[0m 2s/step - accuracy: 0.7030 - loss: 0.6985 - val_accuracy: 0.5714 - val_loss: 72194998272.0000\n",
      "\u001b[1m2/2\u001b[0m \u001b[32m━━━━━━━━━━━━━━━━━━━━\u001b[0m\u001b[37m\u001b[0m \u001b[1m7s\u001b[0m 3s/step\n",
      "Training ResNet50 with LR=0.01, Batch Size=16\n",
      "Epoch 1/3\n",
      "\u001b[1m9/9\u001b[0m \u001b[32m━━━━━━━━━━━━━━━━━━━━\u001b[0m\u001b[37m\u001b[0m \u001b[1m106s\u001b[0m 5s/step - accuracy: 0.5349 - loss: 1.3382 - val_accuracy: 0.4286 - val_loss: 35430629376.0000\n",
      "Epoch 2/3\n",
      "\u001b[1m9/9\u001b[0m \u001b[32m━━━━━━━━━━━━━━━━━━━━\u001b[0m\u001b[37m\u001b[0m \u001b[1m50s\u001b[0m 6s/step - accuracy: 0.4924 - loss: 1.8762 - val_accuracy: 0.4286 - val_loss: 2175840256.0000\n",
      "Epoch 3/3\n",
      "\u001b[1m9/9\u001b[0m \u001b[32m━━━━━━━━━━━━━━━━━━━━\u001b[0m\u001b[37m\u001b[0m \u001b[1m41s\u001b[0m 5s/step - accuracy: 0.4496 - loss: 1.0442 - val_accuracy: 0.5714 - val_loss: 188885328.0000\n",
      "\u001b[1m2/2\u001b[0m \u001b[32m━━━━━━━━━━━━━━━━━━━━\u001b[0m\u001b[37m\u001b[0m \u001b[1m9s\u001b[0m 4s/step\n",
      "Training ResNet50 with LR=0.01, Batch Size=32\n",
      "Epoch 1/3\n",
      "\u001b[1m5/5\u001b[0m \u001b[32m━━━━━━━━━━━━━━━━━━━━\u001b[0m\u001b[37m\u001b[0m \u001b[1m104s\u001b[0m 8s/step - accuracy: 0.5012 - loss: 1.3062 - val_accuracy: 0.4286 - val_loss: 11700615.0000\n",
      "Epoch 2/3\n",
      "\u001b[1m5/5\u001b[0m \u001b[32m━━━━━━━━━━━━━━━━━━━━\u001b[0m\u001b[37m\u001b[0m \u001b[1m49s\u001b[0m 10s/step - accuracy: 0.5313 - loss: 0.7119 - val_accuracy: 0.5714 - val_loss: 114062.0000\n",
      "Epoch 3/3\n",
      "\u001b[1m5/5\u001b[0m \u001b[32m━━━━━━━━━━━━━━━━━━━━\u001b[0m\u001b[37m\u001b[0m \u001b[1m40s\u001b[0m 8s/step - accuracy: 0.6452 - loss: 0.6420 - val_accuracy: 0.4286 - val_loss: 93362.5391\n",
      "\u001b[1m2/2\u001b[0m \u001b[32m━━━━━━━━━━━━━━━━━━━━\u001b[0m\u001b[37m\u001b[0m \u001b[1m7s\u001b[0m 3s/step\n",
      "Training ResNet50 with LR=0.1, Batch Size=8\n",
      "Epoch 1/3\n"
     ]
    },
    {
     "name": "stderr",
     "output_type": "stream",
     "text": [
      "C:\\Users\\USER\\anaconda3\\Lib\\site-packages\\sklearn\\metrics\\_classification.py:1344: UndefinedMetricWarning: Precision is ill-defined and being set to 0.0 due to no predicted samples. Use `zero_division` parameter to control this behavior.\n",
      "  _warn_prf(average, modifier, msg_start, len(result))\n"
     ]
    },
    {
     "name": "stdout",
     "output_type": "stream",
     "text": [
      "\u001b[1m18/18\u001b[0m \u001b[32m━━━━━━━━━━━━━━━━━━━━\u001b[0m\u001b[37m\u001b[0m \u001b[1m108s\u001b[0m 3s/step - accuracy: 0.5499 - loss: 19.3410 - val_accuracy: 0.4286 - val_loss: 53856230173212409856.0000\n",
      "Epoch 2/3\n",
      "\u001b[1m18/18\u001b[0m \u001b[32m━━━━━━━━━━━━━━━━━━━━\u001b[0m\u001b[37m\u001b[0m \u001b[1m56s\u001b[0m 3s/step - accuracy: 0.4979 - loss: 0.7970 - val_accuracy: 0.4286 - val_loss: 1033731047424.0000\n",
      "Epoch 3/3\n",
      "\u001b[1m18/18\u001b[0m \u001b[32m━━━━━━━━━━━━━━━━━━━━\u001b[0m\u001b[37m\u001b[0m \u001b[1m43s\u001b[0m 2s/step - accuracy: 0.5133 - loss: 0.6948 - val_accuracy: 0.4286 - val_loss: 98938584.0000\n",
      "\u001b[1m2/2\u001b[0m \u001b[32m━━━━━━━━━━━━━━━━━━━━\u001b[0m\u001b[37m\u001b[0m \u001b[1m12s\u001b[0m 4s/step\n",
      "Training ResNet50 with LR=0.1, Batch Size=16\n"
     ]
    },
    {
     "name": "stderr",
     "output_type": "stream",
     "text": [
      "C:\\Users\\USER\\anaconda3\\Lib\\site-packages\\sklearn\\metrics\\_classification.py:1344: UndefinedMetricWarning: Precision is ill-defined and being set to 0.0 due to no predicted samples. Use `zero_division` parameter to control this behavior.\n",
      "  _warn_prf(average, modifier, msg_start, len(result))\n"
     ]
    },
    {
     "name": "stdout",
     "output_type": "stream",
     "text": [
      "Epoch 1/3\n",
      "\u001b[1m9/9\u001b[0m \u001b[32m━━━━━━━━━━━━━━━━━━━━\u001b[0m\u001b[37m\u001b[0m \u001b[1m104s\u001b[0m 5s/step - accuracy: 0.5887 - loss: 38.6704 - val_accuracy: 0.4286 - val_loss: 1098721525760.0000\n",
      "Epoch 2/3\n",
      "\u001b[1m9/9\u001b[0m \u001b[32m━━━━━━━━━━━━━━━━━━━━\u001b[0m\u001b[37m\u001b[0m \u001b[1m51s\u001b[0m 6s/step - accuracy: 0.4073 - loss: 15.0657 - val_accuracy: 0.5714 - val_loss: 1063326976.0000\n",
      "Epoch 3/3\n",
      "\u001b[1m9/9\u001b[0m \u001b[32m━━━━━━━━━━━━━━━━━━━━\u001b[0m\u001b[37m\u001b[0m \u001b[1m40s\u001b[0m 4s/step - accuracy: 0.5857 - loss: 2.1607 - val_accuracy: 0.4286 - val_loss: 554121536.0000\n",
      "\u001b[1m2/2\u001b[0m \u001b[32m━━━━━━━━━━━━━━━━━━━━\u001b[0m\u001b[37m\u001b[0m \u001b[1m9s\u001b[0m 3s/step\n",
      "Training ResNet50 with LR=0.1, Batch Size=32\n",
      "Epoch 1/3\n"
     ]
    },
    {
     "name": "stderr",
     "output_type": "stream",
     "text": [
      "C:\\Users\\USER\\anaconda3\\Lib\\site-packages\\sklearn\\metrics\\_classification.py:1344: UndefinedMetricWarning: Precision is ill-defined and being set to 0.0 due to no predicted samples. Use `zero_division` parameter to control this behavior.\n",
      "  _warn_prf(average, modifier, msg_start, len(result))\n"
     ]
    },
    {
     "name": "stdout",
     "output_type": "stream",
     "text": [
      "\u001b[1m5/5\u001b[0m \u001b[32m━━━━━━━━━━━━━━━━━━━━\u001b[0m\u001b[37m\u001b[0m \u001b[1m105s\u001b[0m 8s/step - accuracy: 0.4314 - loss: 21.2078 - val_accuracy: 0.5714 - val_loss: 21881206.0000\n",
      "Epoch 2/3\n",
      "\u001b[1m5/5\u001b[0m \u001b[32m━━━━━━━━━━━━━━━━━━━━\u001b[0m\u001b[37m\u001b[0m \u001b[1m50s\u001b[0m 10s/step - accuracy: 0.6248 - loss: 1.4940 - val_accuracy: 0.4286 - val_loss: 13494269.0000\n",
      "Epoch 3/3\n",
      "\u001b[1m5/5\u001b[0m \u001b[32m━━━━━━━━━━━━━━━━━━━━\u001b[0m\u001b[37m\u001b[0m \u001b[1m36s\u001b[0m 7s/step - accuracy: 0.6583 - loss: 0.8035 - val_accuracy: 0.4286 - val_loss: 191761696.0000\n",
      "\u001b[1m2/2\u001b[0m \u001b[32m━━━━━━━━━━━━━━━━━━━━\u001b[0m\u001b[37m\u001b[0m \u001b[1m6s\u001b[0m 3s/step\n",
      "Training DenseNet121 with LR=0.001, Batch Size=8\n",
      "Epoch 1/3\n"
     ]
    },
    {
     "name": "stderr",
     "output_type": "stream",
     "text": [
      "C:\\Users\\USER\\anaconda3\\Lib\\site-packages\\sklearn\\metrics\\_classification.py:1344: UndefinedMetricWarning: Precision is ill-defined and being set to 0.0 due to no predicted samples. Use `zero_division` parameter to control this behavior.\n",
      "  _warn_prf(average, modifier, msg_start, len(result))\n"
     ]
    },
    {
     "name": "stdout",
     "output_type": "stream",
     "text": [
      "\u001b[1m18/18\u001b[0m \u001b[32m━━━━━━━━━━━━━━━━━━━━\u001b[0m\u001b[37m\u001b[0m \u001b[1m150s\u001b[0m 3s/step - accuracy: 0.6557 - loss: 1.1685 - val_accuracy: 0.5714 - val_loss: 20.4634\n",
      "Epoch 2/3\n",
      "\u001b[1m18/18\u001b[0m \u001b[32m━━━━━━━━━━━━━━━━━━━━\u001b[0m\u001b[37m\u001b[0m \u001b[1m44s\u001b[0m 2s/step - accuracy: 0.7048 - loss: 0.5563 - val_accuracy: 0.5714 - val_loss: 27.0474\n",
      "Epoch 3/3\n",
      "\u001b[1m18/18\u001b[0m \u001b[32m━━━━━━━━━━━━━━━━━━━━\u001b[0m\u001b[37m\u001b[0m \u001b[1m51s\u001b[0m 3s/step - accuracy: 0.8176 - loss: 0.4131 - val_accuracy: 0.5714 - val_loss: 18.9401\n",
      "\u001b[1m2/2\u001b[0m \u001b[32m━━━━━━━━━━━━━━━━━━━━\u001b[0m\u001b[37m\u001b[0m \u001b[1m15s\u001b[0m 9s/step\n",
      "Training DenseNet121 with LR=0.001, Batch Size=16\n",
      "Epoch 1/3\n",
      "\u001b[1m9/9\u001b[0m \u001b[32m━━━━━━━━━━━━━━━━━━━━\u001b[0m\u001b[37m\u001b[0m \u001b[1m193s\u001b[0m 6s/step - accuracy: 0.5673 - loss: 0.8404 - val_accuracy: 0.5714 - val_loss: 1576.5553\n",
      "Epoch 2/3\n",
      "\u001b[1m9/9\u001b[0m \u001b[32m━━━━━━━━━━━━━━━━━━━━\u001b[0m\u001b[37m\u001b[0m \u001b[1m47s\u001b[0m 5s/step - accuracy: 0.8262 - loss: 0.4323 - val_accuracy: 0.5714 - val_loss: 156.9688\n",
      "Epoch 3/3\n",
      "\u001b[1m9/9\u001b[0m \u001b[32m━━━━━━━━━━━━━━━━━━━━\u001b[0m\u001b[37m\u001b[0m \u001b[1m48s\u001b[0m 5s/step - accuracy: 0.8351 - loss: 0.5071 - val_accuracy: 0.4286 - val_loss: 243.6891\n",
      "\u001b[1m2/2\u001b[0m \u001b[32m━━━━━━━━━━━━━━━━━━━━\u001b[0m\u001b[37m\u001b[0m \u001b[1m20s\u001b[0m 11s/step\n",
      "Training DenseNet121 with LR=0.001, Batch Size=32\n",
      "Epoch 1/3\n"
     ]
    },
    {
     "name": "stderr",
     "output_type": "stream",
     "text": [
      "C:\\Users\\USER\\anaconda3\\Lib\\site-packages\\sklearn\\metrics\\_classification.py:1344: UndefinedMetricWarning: Precision is ill-defined and being set to 0.0 due to no predicted samples. Use `zero_division` parameter to control this behavior.\n",
      "  _warn_prf(average, modifier, msg_start, len(result))\n"
     ]
    },
    {
     "name": "stdout",
     "output_type": "stream",
     "text": [
      "\u001b[1m5/5\u001b[0m \u001b[32m━━━━━━━━━━━━━━━━━━━━\u001b[0m\u001b[37m\u001b[0m \u001b[1m152s\u001b[0m 9s/step - accuracy: 0.8334 - loss: 0.6031 - val_accuracy: 0.5714 - val_loss: 306.9310\n",
      "Epoch 2/3\n",
      "\u001b[1m5/5\u001b[0m \u001b[32m━━━━━━━━━━━━━━━━━━━━\u001b[0m\u001b[37m\u001b[0m \u001b[1m46s\u001b[0m 9s/step - accuracy: 0.8925 - loss: 0.3524 - val_accuracy: 0.5714 - val_loss: 1055.1859\n",
      "Epoch 3/3\n",
      "\u001b[1m5/5\u001b[0m \u001b[32m━━━━━━━━━━━━━━━━━━━━\u001b[0m\u001b[37m\u001b[0m \u001b[1m41s\u001b[0m 8s/step - accuracy: 0.9492 - loss: 0.2001 - val_accuracy: 0.5714 - val_loss: 1491.5920\n",
      "\u001b[1m2/2\u001b[0m \u001b[32m━━━━━━━━━━━━━━━━━━━━\u001b[0m\u001b[37m\u001b[0m \u001b[1m12s\u001b[0m 5s/step\n",
      "Training DenseNet121 with LR=0.01, Batch Size=8\n",
      "Epoch 1/3\n",
      "\u001b[1m18/18\u001b[0m \u001b[32m━━━━━━━━━━━━━━━━━━━━\u001b[0m\u001b[37m\u001b[0m \u001b[1m154s\u001b[0m 3s/step - accuracy: 0.4335 - loss: 9.1487 - val_accuracy: 0.5714 - val_loss: 12296132666325421334200320.0000\n",
      "Epoch 2/3\n",
      "\u001b[1m18/18\u001b[0m \u001b[32m━━━━━━━━━━━━━━━━━━━━\u001b[0m\u001b[37m\u001b[0m \u001b[1m54s\u001b[0m 3s/step - accuracy: 0.4456 - loss: 0.7450 - val_accuracy: 0.4286 - val_loss: 21455562814259200.0000\n",
      "Epoch 3/3\n",
      "\u001b[1m18/18\u001b[0m \u001b[32m━━━━━━━━━━━━━━━━━━━━\u001b[0m\u001b[37m\u001b[0m \u001b[1m58s\u001b[0m 3s/step - accuracy: 0.5931 - loss: 0.7428 - val_accuracy: 0.4286 - val_loss: 54429241344.0000\n",
      "\u001b[1m2/2\u001b[0m \u001b[32m━━━━━━━━━━━━━━━━━━━━\u001b[0m\u001b[37m\u001b[0m \u001b[1m17s\u001b[0m 11s/step\n",
      "Training DenseNet121 with LR=0.01, Batch Size=16\n",
      "Epoch 1/3\n"
     ]
    },
    {
     "name": "stderr",
     "output_type": "stream",
     "text": [
      "C:\\Users\\USER\\anaconda3\\Lib\\site-packages\\sklearn\\metrics\\_classification.py:1344: UndefinedMetricWarning: Precision is ill-defined and being set to 0.0 due to no predicted samples. Use `zero_division` parameter to control this behavior.\n",
      "  _warn_prf(average, modifier, msg_start, len(result))\n"
     ]
    },
    {
     "name": "stdout",
     "output_type": "stream",
     "text": [
      "\u001b[1m9/9\u001b[0m \u001b[32m━━━━━━━━━━━━━━━━━━━━\u001b[0m\u001b[37m\u001b[0m \u001b[1m151s\u001b[0m 6s/step - accuracy: 0.5412 - loss: 2.2596 - val_accuracy: 0.5714 - val_loss: 30642643402752.0000\n",
      "Epoch 2/3\n",
      "\u001b[1m9/9\u001b[0m \u001b[32m━━━━━━━━━━━━━━━━━━━━\u001b[0m\u001b[37m\u001b[0m \u001b[1m51s\u001b[0m 6s/step - accuracy: 0.5329 - loss: 2.8204 - val_accuracy: 0.5714 - val_loss: 9021862273089536.0000\n",
      "Epoch 3/3\n",
      "\u001b[1m9/9\u001b[0m \u001b[32m━━━━━━━━━━━━━━━━━━━━\u001b[0m\u001b[37m\u001b[0m \u001b[1m53s\u001b[0m 6s/step - accuracy: 0.5769 - loss: 3.1875 - val_accuracy: 0.5714 - val_loss: 19140708401152.0000\n",
      "\u001b[1m2/2\u001b[0m \u001b[32m━━━━━━━━━━━━━━━━━━━━\u001b[0m\u001b[37m\u001b[0m \u001b[1m14s\u001b[0m 6s/step\n",
      "Training DenseNet121 with LR=0.01, Batch Size=32\n",
      "Epoch 1/3\n",
      "\u001b[1m5/5\u001b[0m \u001b[32m━━━━━━━━━━━━━━━━━━━━\u001b[0m\u001b[37m\u001b[0m \u001b[1m166s\u001b[0m 10s/step - accuracy: 0.4672 - loss: 4.4560 - val_accuracy: 0.4286 - val_loss: 209410272.0000\n",
      "Epoch 2/3\n",
      "\u001b[1m5/5\u001b[0m \u001b[32m━━━━━━━━━━━━━━━━━━━━\u001b[0m\u001b[37m\u001b[0m \u001b[1m50s\u001b[0m 10s/step - accuracy: 0.5519 - loss: 0.7434 - val_accuracy: 0.4286 - val_loss: 107856360.0000\n",
      "Epoch 3/3\n",
      "\u001b[1m5/5\u001b[0m \u001b[32m━━━━━━━━━━━━━━━━━━━━\u001b[0m\u001b[37m\u001b[0m \u001b[1m45s\u001b[0m 9s/step - accuracy: 0.5004 - loss: 0.8564 - val_accuracy: 0.4286 - val_loss: 6621785.5000\n",
      "\u001b[1m2/2\u001b[0m \u001b[32m━━━━━━━━━━━━━━━━━━━━\u001b[0m\u001b[37m\u001b[0m \u001b[1m13s\u001b[0m 6s/step\n",
      "Training DenseNet121 with LR=0.1, Batch Size=8\n",
      "Epoch 1/3\n"
     ]
    },
    {
     "name": "stderr",
     "output_type": "stream",
     "text": [
      "C:\\Users\\USER\\anaconda3\\Lib\\site-packages\\sklearn\\metrics\\_classification.py:1344: UndefinedMetricWarning: Precision is ill-defined and being set to 0.0 due to no predicted samples. Use `zero_division` parameter to control this behavior.\n",
      "  _warn_prf(average, modifier, msg_start, len(result))\n"
     ]
    },
    {
     "name": "stdout",
     "output_type": "stream",
     "text": [
      "\u001b[1m18/18\u001b[0m \u001b[32m━━━━━━━━━━━━━━━━━━━━\u001b[0m\u001b[37m\u001b[0m \u001b[1m186s\u001b[0m 4s/step - accuracy: 0.5732 - loss: 105.1456 - val_accuracy: 0.4286 - val_loss: 0.7259\n",
      "Epoch 2/3\n",
      "\u001b[1m18/18\u001b[0m \u001b[32m━━━━━━━━━━━━━━━━━━━━\u001b[0m\u001b[37m\u001b[0m \u001b[1m59s\u001b[0m 3s/step - accuracy: 0.5818 - loss: 1.2204 - val_accuracy: 0.4286 - val_loss: 28838951084454488047616.0000\n",
      "Epoch 3/3\n",
      "\u001b[1m18/18\u001b[0m \u001b[32m━━━━━━━━━━━━━━━━━━━━\u001b[0m\u001b[37m\u001b[0m \u001b[1m60s\u001b[0m 3s/step - accuracy: 0.5237 - loss: 1.3139 - val_accuracy: 0.5714 - val_loss: 113898850091008.0000\n",
      "\u001b[1m2/2\u001b[0m \u001b[32m━━━━━━━━━━━━━━━━━━━━\u001b[0m\u001b[37m\u001b[0m \u001b[1m12s\u001b[0m 5s/step\n",
      "Training DenseNet121 with LR=0.1, Batch Size=16\n",
      "Epoch 1/3\n",
      "\u001b[1m9/9\u001b[0m \u001b[32m━━━━━━━━━━━━━━━━━━━━\u001b[0m\u001b[37m\u001b[0m \u001b[1m151s\u001b[0m 6s/step - accuracy: 0.5309 - loss: 3.0650 - val_accuracy: 0.5714 - val_loss: 533327529621061632.0000\n",
      "Epoch 2/3\n",
      "\u001b[1m9/9\u001b[0m \u001b[32m━━━━━━━━━━━━━━━━━━━━\u001b[0m\u001b[37m\u001b[0m \u001b[1m50s\u001b[0m 6s/step - accuracy: 0.4555 - loss: 3.1687 - val_accuracy: 0.5714 - val_loss: 2209184502211254681600.0000\n",
      "Epoch 3/3\n",
      "\u001b[1m9/9\u001b[0m \u001b[32m━━━━━━━━━━━━━━━━━━━━\u001b[0m\u001b[37m\u001b[0m \u001b[1m50s\u001b[0m 6s/step - accuracy: 0.5336 - loss: 0.9096 - val_accuracy: 0.5714 - val_loss: 930804322828655001600.0000\n",
      "\u001b[1m2/2\u001b[0m \u001b[32m━━━━━━━━━━━━━━━━━━━━\u001b[0m\u001b[37m\u001b[0m \u001b[1m19s\u001b[0m 13s/step\n",
      "Training DenseNet121 with LR=0.1, Batch Size=32\n",
      "Epoch 1/3\n",
      "\u001b[1m5/5\u001b[0m \u001b[32m━━━━━━━━━━━━━━━━━━━━\u001b[0m\u001b[37m\u001b[0m \u001b[1m146s\u001b[0m 10s/step - accuracy: 0.4328 - loss: 3.9111 - val_accuracy: 0.4286 - val_loss: 112696326652807872512.0000\n",
      "Epoch 2/3\n",
      "\u001b[1m5/5\u001b[0m \u001b[32m━━━━━━━━━━━━━━━━━━━━\u001b[0m\u001b[37m\u001b[0m \u001b[1m44s\u001b[0m 9s/step - accuracy: 0.4393 - loss: 2.5479 - val_accuracy: 0.5714 - val_loss: 755676612145446912.0000\n",
      "Epoch 3/3\n",
      "\u001b[1m5/5\u001b[0m \u001b[32m━━━━━━━━━━━━━━━━━━━━\u001b[0m\u001b[37m\u001b[0m \u001b[1m45s\u001b[0m 9s/step - accuracy: 0.5755 - loss: 1.1277 - val_accuracy: 0.4286 - val_loss: 178323159479484416.0000\n",
      "\u001b[1m2/2\u001b[0m \u001b[32m━━━━━━━━━━━━━━━━━━━━\u001b[0m\u001b[37m\u001b[0m \u001b[1m13s\u001b[0m 5s/step\n",
      "Training InceptionV3 with LR=0.001, Batch Size=8\n",
      "Epoch 1/3\n"
     ]
    },
    {
     "name": "stderr",
     "output_type": "stream",
     "text": [
      "C:\\Users\\USER\\anaconda3\\Lib\\site-packages\\sklearn\\metrics\\_classification.py:1344: UndefinedMetricWarning: Precision is ill-defined and being set to 0.0 due to no predicted samples. Use `zero_division` parameter to control this behavior.\n",
      "  _warn_prf(average, modifier, msg_start, len(result))\n"
     ]
    },
    {
     "name": "stdout",
     "output_type": "stream",
     "text": [
      "\u001b[1m18/18\u001b[0m \u001b[32m━━━━━━━━━━━━━━━━━━━━\u001b[0m\u001b[37m\u001b[0m \u001b[1m101s\u001b[0m 2s/step - accuracy: 0.4916 - loss: 1.8093 - val_accuracy: 0.5429 - val_loss: 4.8681\n",
      "Epoch 2/3\n",
      "\u001b[1m18/18\u001b[0m \u001b[32m━━━━━━━━━━━━━━━━━━━━\u001b[0m\u001b[37m\u001b[0m \u001b[1m35s\u001b[0m 2s/step - accuracy: 0.8266 - loss: 0.4141 - val_accuracy: 0.4571 - val_loss: 63.6799\n",
      "Epoch 3/3\n",
      "\u001b[1m18/18\u001b[0m \u001b[32m━━━━━━━━━━━━━━━━━━━━\u001b[0m\u001b[37m\u001b[0m \u001b[1m42s\u001b[0m 2s/step - accuracy: 0.8163 - loss: 0.4207 - val_accuracy: 0.4286 - val_loss: 13.2837\n",
      "\u001b[1m2/2\u001b[0m \u001b[32m━━━━━━━━━━━━━━━━━━━━\u001b[0m\u001b[37m\u001b[0m \u001b[1m8s\u001b[0m 3s/step\n",
      "Training InceptionV3 with LR=0.001, Batch Size=16\n",
      "Epoch 1/3\n"
     ]
    },
    {
     "name": "stderr",
     "output_type": "stream",
     "text": [
      "C:\\Users\\USER\\anaconda3\\Lib\\site-packages\\sklearn\\metrics\\_classification.py:1344: UndefinedMetricWarning: Precision is ill-defined and being set to 0.0 due to no predicted samples. Use `zero_division` parameter to control this behavior.\n",
      "  _warn_prf(average, modifier, msg_start, len(result))\n"
     ]
    },
    {
     "name": "stdout",
     "output_type": "stream",
     "text": [
      "\u001b[1m9/9\u001b[0m \u001b[32m━━━━━━━━━━━━━━━━━━━━\u001b[0m\u001b[37m\u001b[0m \u001b[1m95s\u001b[0m 4s/step - accuracy: 0.5701 - loss: 0.7275 - val_accuracy: 0.4286 - val_loss: 8026.0044\n",
      "Epoch 2/3\n",
      "\u001b[1m9/9\u001b[0m \u001b[32m━━━━━━━━━━━━━━━━━━━━\u001b[0m\u001b[37m\u001b[0m \u001b[1m29s\u001b[0m 3s/step - accuracy: 0.7522 - loss: 0.6477 - val_accuracy: 0.4286 - val_loss: 4355.5435\n",
      "Epoch 3/3\n",
      "\u001b[1m9/9\u001b[0m \u001b[32m━━━━━━━━━━━━━━━━━━━━\u001b[0m\u001b[37m\u001b[0m \u001b[1m37s\u001b[0m 4s/step - accuracy: 0.7040 - loss: 0.5611 - val_accuracy: 0.4286 - val_loss: 18209.4473\n",
      "\u001b[1m2/2\u001b[0m \u001b[32m━━━━━━━━━━━━━━━━━━━━\u001b[0m\u001b[37m\u001b[0m \u001b[1m8s\u001b[0m 3s/step\n",
      "Training InceptionV3 with LR=0.001, Batch Size=32\n",
      "Epoch 1/3\n"
     ]
    },
    {
     "name": "stderr",
     "output_type": "stream",
     "text": [
      "C:\\Users\\USER\\anaconda3\\Lib\\site-packages\\sklearn\\metrics\\_classification.py:1344: UndefinedMetricWarning: Precision is ill-defined and being set to 0.0 due to no predicted samples. Use `zero_division` parameter to control this behavior.\n",
      "  _warn_prf(average, modifier, msg_start, len(result))\n"
     ]
    },
    {
     "name": "stdout",
     "output_type": "stream",
     "text": [
      "\u001b[1m5/5\u001b[0m \u001b[32m━━━━━━━━━━━━━━━━━━━━\u001b[0m\u001b[37m\u001b[0m \u001b[1m90s\u001b[0m 6s/step - accuracy: 0.4830 - loss: 0.7538 - val_accuracy: 0.4286 - val_loss: 17998928.0000\n",
      "Epoch 2/3\n",
      "\u001b[1m5/5\u001b[0m \u001b[32m━━━━━━━━━━━━━━━━━━━━\u001b[0m\u001b[37m\u001b[0m \u001b[1m25s\u001b[0m 5s/step - accuracy: 0.6160 - loss: 0.6062 - val_accuracy: 0.4286 - val_loss: 89647584.0000\n",
      "Epoch 3/3\n",
      "\u001b[1m5/5\u001b[0m \u001b[32m━━━━━━━━━━━━━━━━━━━━\u001b[0m\u001b[37m\u001b[0m \u001b[1m34s\u001b[0m 7s/step - accuracy: 0.7981 - loss: 0.7473 - val_accuracy: 0.4286 - val_loss: 48167688.0000\n",
      "\u001b[1m2/2\u001b[0m \u001b[32m━━━━━━━━━━━━━━━━━━━━\u001b[0m\u001b[37m\u001b[0m \u001b[1m8s\u001b[0m 3s/step\n",
      "Training InceptionV3 with LR=0.01, Batch Size=8\n",
      "Epoch 1/3\n"
     ]
    },
    {
     "name": "stderr",
     "output_type": "stream",
     "text": [
      "C:\\Users\\USER\\anaconda3\\Lib\\site-packages\\sklearn\\metrics\\_classification.py:1344: UndefinedMetricWarning: Precision is ill-defined and being set to 0.0 due to no predicted samples. Use `zero_division` parameter to control this behavior.\n",
      "  _warn_prf(average, modifier, msg_start, len(result))\n"
     ]
    },
    {
     "name": "stdout",
     "output_type": "stream",
     "text": [
      "\u001b[1m18/18\u001b[0m \u001b[32m━━━━━━━━━━━━━━━━━━━━\u001b[0m\u001b[37m\u001b[0m \u001b[1m107s\u001b[0m 2s/step - accuracy: 0.5119 - loss: 3.5281 - val_accuracy: 0.4286 - val_loss: 449859198487283019808768.0000\n",
      "Epoch 2/3\n",
      "\u001b[1m18/18\u001b[0m \u001b[32m━━━━━━━━━━━━━━━━━━━━\u001b[0m\u001b[37m\u001b[0m \u001b[1m41s\u001b[0m 2s/step - accuracy: 0.4803 - loss: 3.0606 - val_accuracy: 0.5714 - val_loss: 2139010348613632.0000\n",
      "Epoch 3/3\n",
      "\u001b[1m18/18\u001b[0m \u001b[32m━━━━━━━━━━━━━━━━━━━━\u001b[0m\u001b[37m\u001b[0m \u001b[1m35s\u001b[0m 2s/step - accuracy: 0.5823 - loss: 0.8679 - val_accuracy: 0.5714 - val_loss: 678751371264.0000\n",
      "\u001b[1m2/2\u001b[0m \u001b[32m━━━━━━━━━━━━━━━━━━━━\u001b[0m\u001b[37m\u001b[0m \u001b[1m8s\u001b[0m 3s/step\n",
      "Training InceptionV3 with LR=0.01, Batch Size=16\n",
      "Epoch 1/3\n",
      "\u001b[1m9/9\u001b[0m \u001b[32m━━━━━━━━━━━━━━━━━━━━\u001b[0m\u001b[37m\u001b[0m \u001b[1m96s\u001b[0m 4s/step - accuracy: 0.5243 - loss: 1.6934 - val_accuracy: 0.5714 - val_loss: 9877897.0000\n",
      "Epoch 2/3\n",
      "\u001b[1m9/9\u001b[0m \u001b[32m━━━━━━━━━━━━━━━━━━━━\u001b[0m\u001b[37m\u001b[0m \u001b[1m32s\u001b[0m 4s/step - accuracy: 0.5145 - loss: 0.7780 - val_accuracy: 0.5714 - val_loss: 54664000.0000\n",
      "Epoch 3/3\n",
      "\u001b[1m9/9\u001b[0m \u001b[32m━━━━━━━━━━━━━━━━━━━━\u001b[0m\u001b[37m\u001b[0m \u001b[1m40s\u001b[0m 5s/step - accuracy: 0.5576 - loss: 0.6745 - val_accuracy: 0.5714 - val_loss: 33034280.0000\n",
      "\u001b[1m2/2\u001b[0m \u001b[32m━━━━━━━━━━━━━━━━━━━━\u001b[0m\u001b[37m\u001b[0m \u001b[1m8s\u001b[0m 3s/step\n",
      "Training InceptionV3 with LR=0.01, Batch Size=32\n",
      "Epoch 1/3\n",
      "\u001b[1m5/5\u001b[0m \u001b[32m━━━━━━━━━━━━━━━━━━━━\u001b[0m\u001b[37m\u001b[0m \u001b[1m92s\u001b[0m 6s/step - accuracy: 0.5596 - loss: 0.6839 - val_accuracy: 0.5714 - val_loss: 48897024.0000\n",
      "Epoch 2/3\n",
      "\u001b[1m5/5\u001b[0m \u001b[32m━━━━━━━━━━━━━━━━━━━━\u001b[0m\u001b[37m\u001b[0m \u001b[1m26s\u001b[0m 5s/step - accuracy: 0.4859 - loss: 1.7950 - val_accuracy: 0.5714 - val_loss: 393230.1875\n",
      "Epoch 3/3\n",
      "\u001b[1m5/5\u001b[0m \u001b[32m━━━━━━━━━━━━━━━━━━━━\u001b[0m\u001b[37m\u001b[0m \u001b[1m34s\u001b[0m 7s/step - accuracy: 0.4111 - loss: 1.1836 - val_accuracy: 0.4286 - val_loss: 12104.7236\n",
      "\u001b[1m2/2\u001b[0m \u001b[32m━━━━━━━━━━━━━━━━━━━━\u001b[0m\u001b[37m\u001b[0m \u001b[1m8s\u001b[0m 3s/step\n",
      "Training InceptionV3 with LR=0.1, Batch Size=8\n",
      "Epoch 1/3\n"
     ]
    },
    {
     "name": "stderr",
     "output_type": "stream",
     "text": [
      "C:\\Users\\USER\\anaconda3\\Lib\\site-packages\\sklearn\\metrics\\_classification.py:1344: UndefinedMetricWarning: Precision is ill-defined and being set to 0.0 due to no predicted samples. Use `zero_division` parameter to control this behavior.\n",
      "  _warn_prf(average, modifier, msg_start, len(result))\n"
     ]
    },
    {
     "name": "stdout",
     "output_type": "stream",
     "text": [
      "\u001b[1m18/18\u001b[0m \u001b[32m━━━━━━━━━━━━━━━━━━━━\u001b[0m\u001b[37m\u001b[0m \u001b[1m104s\u001b[0m 2s/step - accuracy: 0.4575 - loss: 11.4957 - val_accuracy: 0.5714 - val_loss: 5507899595495047168.0000\n",
      "Epoch 2/3\n",
      "\u001b[1m18/18\u001b[0m \u001b[32m━━━━━━━━━━━━━━━━━━━━\u001b[0m\u001b[37m\u001b[0m \u001b[1m40s\u001b[0m 2s/step - accuracy: 0.5234 - loss: 0.7074 - val_accuracy: 0.5714 - val_loss: 2774620176384.0000\n",
      "Epoch 3/3\n",
      "\u001b[1m18/18\u001b[0m \u001b[32m━━━━━━━━━━━━━━━━━━━━\u001b[0m\u001b[37m\u001b[0m \u001b[1m44s\u001b[0m 2s/step - accuracy: 0.4583 - loss: 0.6948 - val_accuracy: 0.4857 - val_loss: 18498196.0000\n",
      "\u001b[1m2/2\u001b[0m \u001b[32m━━━━━━━━━━━━━━━━━━━━\u001b[0m\u001b[37m\u001b[0m \u001b[1m8s\u001b[0m 3s/step\n",
      "Training InceptionV3 with LR=0.1, Batch Size=16\n",
      "Epoch 1/3\n",
      "\u001b[1m9/9\u001b[0m \u001b[32m━━━━━━━━━━━━━━━━━━━━\u001b[0m\u001b[37m\u001b[0m \u001b[1m88s\u001b[0m 4s/step - accuracy: 0.4950 - loss: 15.3934 - val_accuracy: 0.5714 - val_loss: 9251245260800.0000\n",
      "Epoch 2/3\n",
      "\u001b[1m9/9\u001b[0m \u001b[32m━━━━━━━━━━━━━━━━━━━━\u001b[0m\u001b[37m\u001b[0m \u001b[1m32s\u001b[0m 4s/step - accuracy: 0.5610 - loss: 6.5859 - val_accuracy: 0.5714 - val_loss: 158282278764544.0000\n",
      "Epoch 3/3\n",
      "\u001b[1m9/9\u001b[0m \u001b[32m━━━━━━━━━━━━━━━━━━━━\u001b[0m\u001b[37m\u001b[0m \u001b[1m38s\u001b[0m 4s/step - accuracy: 0.5220 - loss: 2.7016 - val_accuracy: 0.4286 - val_loss: 510351179776.0000\n",
      "\u001b[1m2/2\u001b[0m \u001b[32m━━━━━━━━━━━━━━━━━━━━\u001b[0m\u001b[37m\u001b[0m \u001b[1m18s\u001b[0m 3s/step\n",
      "Training InceptionV3 with LR=0.1, Batch Size=32\n",
      "Epoch 1/3\n"
     ]
    },
    {
     "name": "stderr",
     "output_type": "stream",
     "text": [
      "C:\\Users\\USER\\anaconda3\\Lib\\site-packages\\sklearn\\metrics\\_classification.py:1344: UndefinedMetricWarning: Precision is ill-defined and being set to 0.0 due to no predicted samples. Use `zero_division` parameter to control this behavior.\n",
      "  _warn_prf(average, modifier, msg_start, len(result))\n"
     ]
    },
    {
     "name": "stdout",
     "output_type": "stream",
     "text": [
      "\u001b[1m5/5\u001b[0m \u001b[32m━━━━━━━━━━━━━━━━━━━━\u001b[0m\u001b[37m\u001b[0m \u001b[1m85s\u001b[0m 6s/step - accuracy: 0.4713 - loss: 4.3341 - val_accuracy: 0.5714 - val_loss: 246065807360.0000\n",
      "Epoch 2/3\n",
      "\u001b[1m5/5\u001b[0m \u001b[32m━━━━━━━━━━━━━━━━━━━━\u001b[0m\u001b[37m\u001b[0m \u001b[1m30s\u001b[0m 6s/step - accuracy: 0.4914 - loss: 0.8606 - val_accuracy: 0.5714 - val_loss: 89326632960.0000\n",
      "Epoch 3/3\n",
      "\u001b[1m5/5\u001b[0m \u001b[32m━━━━━━━━━━━━━━━━━━━━\u001b[0m\u001b[37m\u001b[0m \u001b[1m35s\u001b[0m 6s/step - accuracy: 0.5467 - loss: 0.9106 - val_accuracy: 0.5714 - val_loss: 210973671424.0000\n",
      "\u001b[1m2/2\u001b[0m \u001b[32m━━━━━━━━━━━━━━━━━━━━\u001b[0m\u001b[37m\u001b[0m \u001b[1m8s\u001b[0m 3s/step\n"
     ]
    }
   ],
   "source": [
    "for model_name, base_model in base_models.items():\n",
    "    for lr in learning_rates:\n",
    "        for batch_size in batch_sizes:\n",
    "            print(f\"Training {model_name} with LR={lr}, Batch Size={batch_size}\")\n",
    "            model = build_model(base_model)\n",
    "            history = train_model(model, X_train_mri, y_train_mri, X_val_mri, y_val_mri, lr, batch_size, epochs)\n",
    "            metrics = evaluate_model(model, X_val_mri, y_val_mri)\n",
    "            results[f\"{model_name}mri_lr{lr}batch{batch_size}\"] = metrics"
   ]
  },
  {
   "cell_type": "code",
   "execution_count": 30,
   "metadata": {
    "id": "ozTkyQXHR9uo"
   },
   "outputs": [],
   "source": [
    "results_df = pd.DataFrame(results, index=['Accuracy', 'Precision', 'Recall', 'F1-score', 'AUC-ROC']).T"
   ]
  },
  {
   "cell_type": "code",
   "execution_count": 31,
   "metadata": {
    "id": "SY-BXDVCVrWU"
   },
   "outputs": [
    {
     "name": "stdout",
     "output_type": "stream",
     "text": [
      "                               Accuracy  Precision  Recall  F1-score   AUC-ROC\n",
      "ResNet50mri_lr0.001batch8      0.571429   0.571429     1.0  0.727273  0.500000\n",
      "ResNet50mri_lr0.001batch16     0.571429   0.571429     1.0  0.727273  0.500000\n",
      "ResNet50mri_lr0.001batch32     0.571429   0.571429     1.0  0.727273  0.500000\n",
      "ResNet50mri_lr0.01batch8       0.571429   0.571429     1.0  0.727273  0.500000\n",
      "ResNet50mri_lr0.01batch16      0.571429   0.571429     1.0  0.727273  0.500000\n",
      "ResNet50mri_lr0.01batch32      0.428571   0.000000     0.0  0.000000  0.500000\n",
      "ResNet50mri_lr0.1batch8        0.428571   0.000000     0.0  0.000000  0.500000\n",
      "ResNet50mri_lr0.1batch16       0.428571   0.000000     0.0  0.000000  0.500000\n",
      "ResNet50mri_lr0.1batch32       0.428571   0.000000     0.0  0.000000  0.500000\n",
      "DenseNet121mri_lr0.001batch8   0.571429   0.571429     1.0  0.727273  0.500000\n",
      "DenseNet121mri_lr0.001batch16  0.428571   0.000000     0.0  0.000000  0.500000\n",
      "DenseNet121mri_lr0.001batch32  0.571429   0.571429     1.0  0.727273  0.500000\n",
      "DenseNet121mri_lr0.01batch8    0.428571   0.000000     0.0  0.000000  0.500000\n",
      "DenseNet121mri_lr0.01batch16   0.571429   0.571429     1.0  0.727273  0.500000\n",
      "DenseNet121mri_lr0.01batch32   0.428571   0.000000     0.0  0.000000  0.500000\n",
      "DenseNet121mri_lr0.1batch8     0.571429   0.571429     1.0  0.727273  0.500000\n",
      "DenseNet121mri_lr0.1batch16    0.571429   0.571429     1.0  0.727273  0.500000\n",
      "DenseNet121mri_lr0.1batch32    0.428571   0.000000     0.0  0.000000  0.500000\n",
      "InceptionV3mri_lr0.001batch8   0.428571   0.000000     0.0  0.000000  0.500000\n",
      "InceptionV3mri_lr0.001batch16  0.428571   0.000000     0.0  0.000000  0.500000\n",
      "InceptionV3mri_lr0.001batch32  0.428571   0.000000     0.0  0.000000  0.500000\n",
      "InceptionV3mri_lr0.01batch8    0.571429   0.571429     1.0  0.727273  0.500000\n",
      "InceptionV3mri_lr0.01batch16   0.571429   0.571429     1.0  0.727273  0.500000\n",
      "InceptionV3mri_lr0.01batch32   0.428571   0.000000     0.0  0.000000  0.500000\n",
      "InceptionV3mri_lr0.1batch8     0.485714   0.545455     0.6  0.571429  0.466667\n",
      "InceptionV3mri_lr0.1batch16    0.428571   0.000000     0.0  0.000000  0.500000\n",
      "InceptionV3mri_lr0.1batch32    0.571429   0.571429     1.0  0.727273  0.500000\n"
     ]
    }
   ],
   "source": [
    "print(results_df)"
   ]
  },
  {
   "cell_type": "code",
   "execution_count": 32,
   "metadata": {
    "id": "myejnWvpVv9o"
   },
   "outputs": [],
   "source": [
    "def plot_roc_curve(model, X_val, y_val, model_name):\n",
    "    y_pred_prob = model.predict(X_val).ravel()\n",
    "    fpr, tpr, _ = roc_curve(y_val, y_pred_prob)\n",
    "    roc_auc = auc(fpr, tpr)\n",
    "    plt.figure()\n",
    "    plt.plot(fpr, tpr, color='darkorange', lw=2, label='ROC curve (area = %0.2f)' % roc_auc)\n",
    "    plt.plot([0, 1], [0, 1], color='navy', lw=2, linestyle='--')\n",
    "    plt.xlim([0.0, 1.0])\n",
    "    plt.ylim([0.0, 1.05])\n",
    "    plt.xlabel('False Positive Rate')\n",
    "    plt.ylabel('True Positive Rate')\n",
    "    plt.title(f'Receiver Operating Characteristic - {model_name}')\n",
    "    plt.legend(loc=\"lower right\")\n",
    "    plt.show()"
   ]
  },
  {
   "cell_type": "code",
   "execution_count": 33,
   "metadata": {
    "id": "MUPBYFUSV1d2"
   },
   "outputs": [
    {
     "name": "stdout",
     "output_type": "stream",
     "text": [
      "\u001b[1m2/2\u001b[0m \u001b[32m━━━━━━━━━━━━━━━━━━━━\u001b[0m\u001b[37m\u001b[0m \u001b[1m2s\u001b[0m 229ms/step\n"
     ]
    },
    {
     "data": {
      "image/png": "[encoded data removed]",
      "text/plain": [
       "<Figure size 640x480 with 1 Axes>"
      ]
     },
     "metadata": {},
     "output_type": "display_data"
    }
   ],
   "source": [
    "\n",
    "# Example plotting for one model\n",
    "plot_roc_curve(model, X_val_mri, y_val_mri, \"ResNet50_mri\")"
   ]
  },
  {
   "cell_type": "code",
   "execution_count": null,
   "metadata": {},
   "outputs": [],
   "source": []
  }
 ],
 "metadata": {
  "accelerator": "GPU",
  "colab": {
   "gpuType": "T4",
   "provenance": []
  },
  "kernelspec": {
   "display_name": "Python 3 (ipykernel)",
   "language": "python",
   "name": "python3"
  },
  "language_info": {
   "codemirror_mode": {
    "name": "ipython",
    "version": 3
   },
   "file_extension": ".py",
   "mimetype": "text/x-python",
   "name": "python",
   "nbconvert_exporter": "python",
   "pygments_lexer": "ipython3",
   "version": "3.11.7"
  }
 },
 "nbformat": 4,
 "nbformat_minor": 4
}
